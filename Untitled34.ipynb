{
  "nbformat": 4,
  "nbformat_minor": 0,
  "metadata": {
    "colab": {
      "name": "Untitled34.ipynb",
      "provenance": [],
      "authorship_tag": "ABX9TyN7uWxN4cnjiB7hmf+VoxMc",
      "include_colab_link": true
    },
    "kernelspec": {
      "name": "python3",
      "display_name": "Python 3"
    },
    "language_info": {
      "name": "python"
    }
  },
  "cells": [
    {
      "cell_type": "markdown",
      "metadata": {
        "id": "view-in-github",
        "colab_type": "text"
      },
      "source": [
        "<a href=\"https://colab.research.google.com/github/sipahisnm/python-ass/blob/main/Untitled34.ipynb\" target=\"_parent\"><img src=\"https://colab.research.google.com/assets/colab-badge.svg\" alt=\"Open In Colab\"/></a>"
      ]
    },
    {
      "cell_type": "code",
      "metadata": {
        "colab": {
          "base_uri": "https://localhost:8080/"
        },
        "id": "BFN86wknwPXG",
        "outputId": "1af46b97-c7a0-41d0-8b4a-0950fbd0883c"
      },
      "source": [
        "\n",
        "\n",
        "def biggest(a,b,c,d,e):\n",
        "    if a>b and a>c and a>d and a>e:\n",
        "        print(\"Biggest Number=\",a)\n",
        "    elif b>a and b>c and b>d and b>e:\n",
        "        print(\"Biggest Number=\",b)\n",
        "    elif c>a and c>b and c>d and c>e:\n",
        "        print(\"biggest number=\",c) \n",
        "    elif d>a and d>b and d>c and d>e: \n",
        "         print(\"biggest number=\",d)\n",
        "    else:\n",
        "        print(\"Biggest Number=\",e)    \n",
        "biggest(33,42,55,234,2222)"
      ],
      "execution_count": 4,
      "outputs": [
        {
          "output_type": "stream",
          "text": [
            "Biggest Number= 2222\n"
          ],
          "name": "stdout"
        }
      ]
    }
  ]
}