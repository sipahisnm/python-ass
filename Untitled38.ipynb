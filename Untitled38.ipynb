{
  "nbformat": 4,
  "nbformat_minor": 0,
  "metadata": {
    "colab": {
      "name": "Untitled38.ipynb",
      "provenance": [],
      "authorship_tag": "ABX9TyMn0rBeA7GUdFf43dSOXS9U",
      "include_colab_link": true
    },
    "kernelspec": {
      "name": "python3",
      "display_name": "Python 3"
    },
    "language_info": {
      "name": "python"
    }
  },
  "cells": [
    {
      "cell_type": "markdown",
      "metadata": {
        "id": "view-in-github",
        "colab_type": "text"
      },
      "source": [
        "<a href=\"https://colab.research.google.com/github/sipahisnm/python-ass/blob/main/Untitled38.ipynb\" target=\"_parent\"><img src=\"https://colab.research.google.com/assets/colab-badge.svg\" alt=\"Open In Colab\"/></a>"
      ]
    },
    {
      "cell_type": "code",
      "metadata": {
        "colab": {
          "base_uri": "https://localhost:8080/"
        },
        "id": "JprDfoQC7YoF",
        "outputId": "c76f311c-9e4d-4634-d750-aa28d12a5809"
      },
      "source": [
        "import random\n",
        "\n",
        "X=input(\"Please enter your full name : \").lower()\n",
        "\n",
        "y=\"0123456789\"\n",
        "a=random.choice(x)+random.choice(x)+random.choice(x)\n",
        "b=random.choice(y)+random.choice(y)+random.choice(y)+random.choice(y)\n",
        "\n",
        "print(a+b)\n",
        "      \n",
        "     "
      ],
      "execution_count": 15,
      "outputs": [
        {
          "output_type": "stream",
          "text": [
            "Please enter your full name : ASIIGHUIERGHG\n",
            "qiq6510\n"
          ],
          "name": "stdout"
        }
      ]
    }
  ]
}