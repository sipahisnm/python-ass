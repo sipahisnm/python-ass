{
  "nbformat": 4,
  "nbformat_minor": 0,
  "metadata": {
    "colab": {
      "name": "Untitled21.ipynb",
      "provenance": [],
      "authorship_tag": "ABX9TyM/kapv76HJAIdjd8g6Nwop",
      "include_colab_link": true
    },
    "kernelspec": {
      "name": "python3",
      "display_name": "Python 3"
    }
  },
  "cells": [
    {
      "cell_type": "markdown",
      "metadata": {
        "id": "view-in-github",
        "colab_type": "text"
      },
      "source": [
        "<a href=\"https://colab.research.google.com/github/sipahisnm/python-ass/blob/main/Untitled21.ipynb\" target=\"_parent\"><img src=\"https://colab.research.google.com/assets/colab-badge.svg\" alt=\"Open In Colab\"/></a>"
      ]
    },
    {
      "cell_type": "code",
      "metadata": {
        "colab": {
          "base_uri": "https://localhost:8080/"
        },
        "id": "ncMNnTiS2oYx",
        "outputId": "f2c6beeb-10b9-49f8-accc-e5faf70fdc4d"
      },
      "source": [
        "num=int(input(\"say any number:\"))\r\n",
        "\r\n",
        "if num > 1:\r\n",
        "\r\n",
        "  for i in range(2,num):\r\n",
        "    if (num % i)==0:\r\n",
        "      print(\"this is not a prime\")\r\n",
        "\r\n",
        "      break\r\n",
        "  else:\r\n",
        "      print(\"this is  prime number\")\r\n",
        "\r\n",
        "else:\r\n",
        "  print(\"this is not prime number\")        "
      ],
      "execution_count": 2,
      "outputs": [
        {
          "output_type": "stream",
          "text": [
            "say any number:61\n",
            "this is  prime number\n"
          ],
          "name": "stdout"
        }
      ]
    }
  ]
}